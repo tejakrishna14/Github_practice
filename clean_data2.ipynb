{
 "cells": [
  {
   "cell_type": "code",
   "execution_count": 1,
   "id": "7cf02607-d490-45fc-a6aa-2791a5944276",
   "metadata": {},
   "outputs": [],
   "source": [
    "import json"
   ]
  },
  {
   "cell_type": "code",
   "execution_count": 4,
   "id": "ede0fefa-c872-4518-9e58-a310611e535d",
   "metadata": {},
   "outputs": [],
   "source": [
    "def load_data(filename):\n",
    "    with open(filename,\"r\") as file:\n",
    "        data = json.load(file)\n",
    "    return data"
   ]
  },
  {
   "cell_type": "code",
   "execution_count": 6,
   "id": "0f067680-394f-465f-9cf0-52b68f171ef0",
   "metadata": {},
   "outputs": [],
   "source": [
    "data = load_data(\"retail_data.json\")"
   ]
  },
  {
   "cell_type": "code",
   "execution_count": 7,
   "id": "12e6ef30-bd4c-457c-9fd9-4b5e84e2151a",
   "metadata": {},
   "outputs": [
    {
     "data": {
      "text/plain": [
       "[{'CustomerID': 1001,\n",
       "  'Gender': 'Male',\n",
       "  'Age': 28,\n",
       "  'Product': 'T-Shirt',\n",
       "  'Category': 'Clothing',\n",
       "  'Quantity': 2,\n",
       "  'UnitPrice': 15.99,\n",
       "  'PurchaseDate': '2023-09-15',\n",
       "  'PaymentMethod': 'Credit Card'},\n",
       " {'CustomerID': 1002,\n",
       "  'Gender': 'Female',\n",
       "  'Age': 34,\n",
       "  'Product': 'Headphones',\n",
       "  'Category': 'Electronics',\n",
       "  'Quantity': 1,\n",
       "  'UnitPrice': 59.99,\n",
       "  'PurchaseDate': '2023-09-17',\n",
       "  'PaymentMethod': 'PayPal'},\n",
       " {'CustomerID': 1003,\n",
       "  'Gender': 'Male',\n",
       "  'Age': 22,\n",
       "  'Product': 'Coffee Mug',\n",
       "  'Category': 'Kitchen',\n",
       "  'Quantity': 4,\n",
       "  'UnitPrice': 5.49,\n",
       "  'PurchaseDate': '2023-09-18',\n",
       "  'PaymentMethod': 'Cash'},\n",
       " {'CustomerID': 1004,\n",
       "  'Gender': 'Female',\n",
       "  'Age': 45,\n",
       "  'Product': 'Blender',\n",
       "  'Category': 'Electronics',\n",
       "  'Quantity': 1,\n",
       "  'UnitPrice': 34.99,\n",
       "  'PurchaseDate': '2023-09-20',\n",
       "  'PaymentMethod': 'Credit Card'},\n",
       " {'CustomerID': 1005,\n",
       "  'Gender': 'Male',\n",
       "  'Age': 31,\n",
       "  'Product': 'Notebook',\n",
       "  'Category': 'Stationery',\n",
       "  'Quantity': 3,\n",
       "  'UnitPrice': 2.99,\n",
       "  'PurchaseDate': '2023-09-21',\n",
       "  'PaymentMethod': 'UPI'},\n",
       " {'CustomerID': 1006,\n",
       "  'Gender': 'Female',\n",
       "  'Age': 29,\n",
       "  'Product': 'Dress',\n",
       "  'Category': 'Clothing',\n",
       "  'Quantity': 1,\n",
       "  'UnitPrice': 49.99,\n",
       "  'PurchaseDate': '2023-09-23',\n",
       "  'PaymentMethod': 'Debit Card'},\n",
       " {'CustomerID': 1007,\n",
       "  'Gender': 'Male',\n",
       "  'Age': 37,\n",
       "  'Product': 'Water Bottle',\n",
       "  'Category': 'Kitchen',\n",
       "  'Quantity': 2,\n",
       "  'UnitPrice': 12.5,\n",
       "  'PurchaseDate': '2023-09-25',\n",
       "  'PaymentMethod': 'UPI'},\n",
       " {'CustomerID': 1008,\n",
       "  'Gender': 'Female',\n",
       "  'Age': 26,\n",
       "  'Product': 'Pens',\n",
       "  'Category': 'Stationery',\n",
       "  'Quantity': 5,\n",
       "  'UnitPrice': 1.49,\n",
       "  'PurchaseDate': '2023-09-27',\n",
       "  'PaymentMethod': 'Credit Card'},\n",
       " {'CustomerID': 1009,\n",
       "  'Gender': 'Male',\n",
       "  'Age': 40,\n",
       "  'Product': 'Power Bank',\n",
       "  'Category': 'Electronics',\n",
       "  'Quantity': 1,\n",
       "  'UnitPrice': 25.0,\n",
       "  'PurchaseDate': '2023-09-28',\n",
       "  'PaymentMethod': 'Cash'},\n",
       " {'CustomerID': 1010,\n",
       "  'Gender': 'Female',\n",
       "  'Age': 33,\n",
       "  'Product': 'Jeans',\n",
       "  'Category': 'Clothing',\n",
       "  'Quantity': 2,\n",
       "  'UnitPrice': 35.0,\n",
       "  'PurchaseDate': '2023-09-29',\n",
       "  'PaymentMethod': 'PayPal'}]"
      ]
     },
     "execution_count": 7,
     "metadata": {},
     "output_type": "execute_result"
    }
   ],
   "source": [
    "data"
   ]
  },
  {
   "cell_type": "code",
   "execution_count": 23,
   "id": "85ecf1a2-0d7b-4cff-b190-9832cc0d68b7",
   "metadata": {},
   "outputs": [
    {
     "name": "stdout",
     "output_type": "stream",
     "text": [
      "Customer has ID 1001 and is of gender Male with age 28\n",
      "Customer has ID 1002 and is of gender Female with age 34\n",
      "Customer has ID 1003 and is of gender Male with age 22\n",
      "Customer has ID 1004 and is of gender Female with age 45\n",
      "Customer has ID 1005 and is of gender Male with age 31\n",
      "Customer has ID 1006 and is of gender Female with age 29\n",
      "Customer has ID 1007 and is of gender Male with age 37\n",
      "Customer has ID 1008 and is of gender Female with age 26\n",
      "Customer has ID 1009 and is of gender Male with age 40\n",
      "Customer has ID 1010 and is of gender Female with age 33\n",
      "\n",
      "They have purchased\n",
      "Chustomer 1001 has purchased T-Shirt of category Clothing\n",
      "Chustomer 1002 has purchased Headphones of category Electronics\n",
      "Chustomer 1003 has purchased Coffee Mug of category Kitchen\n",
      "Chustomer 1004 has purchased Blender of category Electronics\n",
      "Chustomer 1005 has purchased Notebook of category Stationery\n",
      "Chustomer 1006 has purchased Dress of category Clothing\n",
      "Chustomer 1007 has purchased Water Bottle of category Kitchen\n",
      "Chustomer 1008 has purchased Pens of category Stationery\n",
      "Chustomer 1009 has purchased Power Bank of category Electronics\n",
      "Chustomer 1010 has purchased Jeans of category Clothing\n",
      "\n",
      "The payment details are:\n",
      "Payment Method is Credit Card and payment date is 2023-09-15\n",
      "Payment Method is PayPal and payment date is 2023-09-17\n",
      "Payment Method is Cash and payment date is 2023-09-18\n",
      "Payment Method is Credit Card and payment date is 2023-09-20\n",
      "Payment Method is UPI and payment date is 2023-09-21\n",
      "Payment Method is Debit Card and payment date is 2023-09-23\n",
      "Payment Method is UPI and payment date is 2023-09-25\n",
      "Payment Method is Credit Card and payment date is 2023-09-27\n",
      "Payment Method is Cash and payment date is 2023-09-28\n",
      "Payment Method is PayPal and payment date is 2023-09-29\n"
     ]
    }
   ],
   "source": [
    "def load_details(data):\n",
    "    for detail in data:\n",
    "        print(f\"Customer has ID {detail['CustomerID']} and is of gender {detail['Gender']} with age {detail['Age']}\")\n",
    "\n",
    "    print(\"\\nThey have purchased\")\n",
    "    \n",
    "    for product in data:\n",
    "        print(f\"Chustomer {product['CustomerID']} has purchased {product['Product']} of category {product['Category']}\")\n",
    "\n",
    "    print(\"\\nThe payment details are:\")\n",
    "    for pdetails in data:\n",
    "        print(f\"Payment Method is {pdetails['PaymentMethod']} and payment date is {pdetails['PurchaseDate']}\")\n",
    "\n",
    "load_details(data)"
   ]
  },
  {
   "cell_type": "code",
   "execution_count": null,
   "id": "3d0253a1-94ef-4c3d-8e9e-d21de981da99",
   "metadata": {},
   "outputs": [],
   "source": []
  }
 ],
 "metadata": {
  "kernelspec": {
   "display_name": "Python [conda env:base] *",
   "language": "python",
   "name": "conda-base-py"
  },
  "language_info": {
   "codemirror_mode": {
    "name": "ipython",
    "version": 3
   },
   "file_extension": ".py",
   "mimetype": "text/x-python",
   "name": "python",
   "nbconvert_exporter": "python",
   "pygments_lexer": "ipython3",
   "version": "3.12.7"
  }
 },
 "nbformat": 4,
 "nbformat_minor": 5
}
